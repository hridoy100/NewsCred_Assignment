{
  "nbformat": 4,
  "nbformat_minor": 0,
  "metadata": {
    "colab": {
      "name": "Exercise 2: Text Classification.ipynb",
      "provenance": [],
      "collapsed_sections": [],
      "authorship_tag": "ABX9TyNB7321WX8BxuVgQZRbVmKT",
      "include_colab_link": true
    },
    "kernelspec": {
      "name": "python3",
      "display_name": "Python 3"
    },
    "language_info": {
      "name": "python"
    }
  },
  "cells": [
    {
      "cell_type": "markdown",
      "metadata": {
        "id": "view-in-github",
        "colab_type": "text"
      },
      "source": [
        "<a href=\"https://colab.research.google.com/github/hridoy100/NewsCred_Assignment/blob/main/Exercise_2_Text_Classification.ipynb\" target=\"_parent\"><img src=\"https://colab.research.google.com/assets/colab-badge.svg\" alt=\"Open In Colab\"/></a>"
      ]
    },
    {
      "cell_type": "code",
      "execution_count": null,
      "metadata": {
        "id": "bPryVtgxj3Or"
      },
      "outputs": [],
      "source": [
        "from urllib.request import urlopen\n",
        "import json\n",
        "import collections\n",
        "import re\n",
        "import string\n",
        "import pandas as pd\n",
        "\n",
        "url = \"https://api.welcomesoftware.com/v2/feed/49e82ccda46544ff4e48a5fc3f04e343?format=json\"\n",
        "response = urlopen(url)\n",
        "  \n",
        "# storing the JSON response \n",
        "# from url in data\n",
        "data_json = json.loads(response.read())\n",
        "\n",
        "def remove_number(str):\n",
        "    str = re.sub(r'[0-9]+', '', str)\n",
        "    return str\n",
        "\n",
        "def remove_comma_semi_colon(str):\n",
        "    str = re.sub(r'[,:;\\()]', '', str)\n",
        "    return str\n",
        "\n",
        "def split_with_hyphen(str):\n",
        "    str = re.sub(r'-', ' ', str)\n",
        "    return str\n",
        "\n",
        "contents = dict()\n",
        "count = {}\n",
        "guid_map = {}\n",
        "for x in data_json[\"entries\"]:\n",
        "  str = x[\"content\"]\n",
        "  guid_map[str[\"guid\"]] = str\n",
        "  str[\"title\"] = remove_comma_semi_colon(str[\"title\"])\n",
        "  \n",
        "  words = str[\"title\"].split()\n",
        "  for word in words:\n",
        "    if word in count:\n",
        "      count[word] += 1\n",
        "    else:\n",
        "      count[word] = 1\n",
        "  contents[str[\"guid\"]]=words\n",
        "score = {}\n",
        "for key in contents:\n",
        "  sum=0\n",
        "  for word in contents[key]:\n",
        "    sum+=count[word]\n",
        "  score[key] = sum\n",
        "\n",
        "score = dict(sorted(score.items(), key=lambda kv: kv[1], reverse=True))\n",
        "\n",
        "dd = collections.defaultdict(list)\n",
        "for k,v in score.items():\n",
        "    dd[v].append(k)\n",
        "topScores = sorted(dd.items())\n",
        "df = pd.DataFrame(columns=['Guid','Title','Related Image Urls','Publish Date','Creation Date','Recurrence count sum of words'])\n",
        "\n",
        "for i in range(1, 4):\n",
        "  value = topScores[-i][0]\n",
        "  guids = topScores[-i][1]\n",
        "  for guid in guids:\n",
        "    content = guid_map[guid]\n",
        "    image_urls = []\n",
        "    for image in content[\"images\"]:\n",
        "      image_urls.append(image[\"url\"])\n",
        "    row = {'Guid': content[\"guid\"], 'Title': content[\"title\"], \n",
        "           'Related Image Urls': \",\".join(image_urls),\n",
        "           'Publish Date': content[\"published_at\"],\n",
        "           'Creation Date': content[\"created_at\"],\n",
        "           'Recurrence count sum of words': value}\n",
        "    df = df.append(row, ignore_index=True)\n",
        "\n",
        "df.to_csv('reccurrence.csv', index=False)"
      ]
    }
  ]
}
