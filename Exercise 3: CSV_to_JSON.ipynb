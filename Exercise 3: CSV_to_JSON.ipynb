{
  "nbformat": 4,
  "nbformat_minor": 0,
  "metadata": {
    "colab": {
      "name": "CSV to JSON.ipynb",
      "provenance": [],
      "collapsed_sections": [],
      "authorship_tag": "ABX9TyNYsddINKVvMnYfRXGYNNQE",
      "include_colab_link": true
    },
    "kernelspec": {
      "name": "python3",
      "display_name": "Python 3"
    },
    "language_info": {
      "name": "python"
    }
  },
  "cells": [
    {
      "cell_type": "markdown",
      "metadata": {
        "id": "view-in-github",
        "colab_type": "text"
      },
      "source": [
        "<a href=\"https://colab.research.google.com/github/hridoy100/NewsCred_Assignment/blob/main/Exercise%203%3A%20CSV_to_JSON.ipynb\" target=\"_parent\"><img src=\"https://colab.research.google.com/assets/colab-badge.svg\" alt=\"Open In Colab\"/></a>"
      ]
    },
    {
      "cell_type": "code",
      "execution_count": 75,
      "metadata": {
        "id": "N1ZcPW5SjJxK"
      },
      "outputs": [],
      "source": [
        "from os import sep\n",
        "import pandas as pd\n",
        "import json\n",
        "\n",
        "data = {}\n",
        "pd.options.display.max_colwidth = 190  # set a value as your need\n",
        "\n",
        "def remove_empty_elements(d):\n",
        "  \"\"\"recursively remove empty lists, empty dicts, or None elements from a dictionary\"\"\"\n",
        "  def empty(x):\n",
        "    return x is None or x == {} or x == [] or x ==''\n",
        "  if not isinstance(d, (dict, list)):\n",
        "    return d\n",
        "  elif isinstance(d, list):\n",
        "    return [v for v in (remove_empty_elements(v) for v in d) if not empty(v)]\n",
        "  else:\n",
        "    return {k: v for k, v in ((k, remove_empty_elements(v)) for k, v in d.items()) if not empty(v)}\n",
        "\n",
        "df = pd.read_excel(r'MappingDocumentExercise.xlsx')\n",
        "df[['WelcomeLabel', 'OtherSoftwareTag', 'CountryLevel']] = pd.DataFrame(df['WelcomeLabel,OtherSoftwareTag,CountryLevel'].str.split(',').tolist())\n",
        "df = df.iloc[: , 1:]\n",
        "df['json'] = df.apply(lambda x: x.to_json(), axis=1)\n",
        "# print(df[\"json\"])\n",
        "data = df[\"json\"].to_list()\n",
        "# print(data)\n",
        "str = \",\".join(data)\n",
        "str = \"[\" + str + \"]\"\n",
        "# print(str)\n",
        "json_object = json.loads(str)\n",
        "# print(json_object)\n",
        "json_object = remove_empty_elements(json_object)\n",
        "# print(type(json_object))\n",
        "json_string = json.dumps(json_object)\n",
        "with open(\"output.json\", \"w\") as outfile:\n",
        "  outfile.write(json_string)\n"
      ]
    }
  ]
}